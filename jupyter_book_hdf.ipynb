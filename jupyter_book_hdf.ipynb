{
 "cells": [
  {
   "cell_type": "code",
   "execution_count": null,
   "id": "bfe7227f-8080-449b-a081-e0ea00039b44",
   "metadata": {},
   "outputs": [
    {
     "name": "stdout",
     "output_type": "stream",
     "text": [
      "<class 'dict_keys'>\n",
      "dict_keys(['apple', 'banana', 'orange'])\n"
     ]
    },
    {
     "data": {
      "text/plain": [
       "dict_values(['苹果', '香蕉', '橘子'])"
      ]
     },
     "execution_count": 5,
     "metadata": {},
     "output_type": "execute_result"
    }
   ],
   "source": [
    "dictA=dict((('apple','苹果'),('banana','香蕉'),('orange','橘子')))\n",
    "keys = dictA.keys()\n",
    "print(type(keys)) # dict_keys 是个什么奇怪的类型\n",
    "print(keys)\n",
    "\n",
    "dictA.values()\n",
    "# dictA.items()"
   ]
  },
  {
   "cell_type": "markdown",
   "id": "34868a86",
   "metadata": {},
   "source": [
    "> 下面是代码\n",
    "**这里写markdown，我有点不乐意**\n",
    "jupyter notebook 还有vscode插件，蛮好用的\n",
    "今天傻乎乎装了个 anaconda navigator 作为开发着看到这个产品直倒胃口\n",
    "还是minconda搞个 condaCLI好用\n",
    "还是简洁的敲命令最好"
   ]
  },
  {
   "cell_type": "code",
   "execution_count": null,
   "id": "c17fd97f",
   "metadata": {},
   "outputs": [],
   "source": [
    "···````"
   ]
  }
 ],
 "metadata": {
  "kernelspec": {
   "display_name": "Python 3 (ipykernel)",
   "language": "python",
   "name": "python3"
  },
  "language_info": {
   "codemirror_mode": {
    "name": "ipython",
    "version": 3
   },
   "file_extension": ".py",
   "mimetype": "text/x-python",
   "name": "python",
   "nbconvert_exporter": "python",
   "pygments_lexer": "ipython3",
   "version": "3.13.0"
  }
 },
 "nbformat": 4,
 "nbformat_minor": 5
}
