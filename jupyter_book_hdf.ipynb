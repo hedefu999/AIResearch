{
 "cells": [
  {
   "cell_type": "code",
   "execution_count": 7,
   "id": "bfe7227f-8080-449b-a081-e0ea00039b44",
   "metadata": {},
   "outputs": [
    {
     "name": "stdout",
     "output_type": "stream",
     "text": [
      "<class 'dict_keys'>\n",
      "dict_keys(['apple', 'banana', 'orange'])\n"
     ]
    },
    {
     "data": {
      "text/plain": [
       "dict_values(['苹果', '香蕉', '橘子'])"
      ]
     },
     "execution_count": 7,
     "metadata": {},
     "output_type": "execute_result"
    }
   ],
   "source": [
    "dictA=dict((('apple','苹果'),('banana','香蕉'),('orange','橘子')))\n",
    "keys = dictA.keys()\n",
    "print(type(keys)) # dict_keys 是个什么奇怪的类型\n",
    "print(keys)\n",
    "\n",
    "dictA.values()\n",
    "# dictA.items()"
   ]
  },
  {
   "cell_type": "markdown",
   "id": "34868a86",
   "metadata": {},
   "source": [
    "> 下面是代码\n",
    "**这里写markdown，我有点不乐意**\n",
    "jupyter notebook 还有vscode插件，蛮好用的\n",
    "今天傻乎乎装了个 anaconda navigator 作为开发着看到这个产品直倒胃口\n",
    "还是minconda搞个 condaCLI好用\n",
    "还是简洁的敲命令最好\n",
    "继续进行python练习代码\n",
    "\n",
    "## dict内部方法"
   ]
  },
  {
   "cell_type": "code",
   "execution_count": null,
   "id": "c17fd97f",
   "metadata": {},
   "outputs": [
    {
     "name": "stdout",
     "output_type": "stream",
     "text": [
      "None\n",
      "has apple\n",
      "no conda found\n",
      "{'apple': '苹果', 'banana': '香蕉', 'orange': '橘子'}\n",
      "橘子\n",
      "{'apple': '苹果', 'banana': '香蕉'}\n",
      "('banana', '香蕉')\n"
     ]
    }
   ],
   "source": [
    "dictA=dict((('apple','苹果'),('banana','香蕉'),('orange','橘子')))\n",
    "# dictA['conda'] 这样写会抛异常\n",
    "print(dictA.get('conda')) # 返回None\n",
    "dictA.get('conda','None') # 返回 ‘None’\n",
    "if('apple' in dictA):\n",
    "    print('has apple')\n",
    "if('conda' not in dictA):\n",
    "    print('no conda found')\n",
    "dictB=dictA.copy()\n",
    "dictA.clear() # 清空字典\n",
    "print(dictB)\n",
    "print(dictB.pop('orange')) # pop了少一个元素，返回key对应的value\n",
    "print(dictB)\n",
    "print(dictB.popitem()) # 弹出最后一个元素，不支持传递key\n"
   ]
  },
  {
   "cell_type": "code",
   "execution_count": null,
   "id": "84f80955",
   "metadata": {},
   "outputs": [
    {
     "name": "stdout",
     "output_type": "stream",
     "text": [
      "{'apple': '苹果', 'banana': '香蕉', 'orange': '橘子', 'apple2': '苹果2'}\n"
     ]
    }
   ],
   "source": [
    "dicta=dict((('apple','苹果'),('banana','香蕉'),('orange','橘子')))\n",
    "dicta.setdefault('apple','大苹果') # 安全添加元素，存在时不覆盖 putIfAbsent\n",
    "dicta['apple2']='大苹果'\n",
    "dicta.update(apple2='苹果2') # 更新字典值\n",
    "print(dicta)"
   ]
  },
  {
   "cell_type": "code",
   "execution_count": null,
   "id": "e8f2001c",
   "metadata": {},
   "outputs": [
    {
     "name": "stdout",
     "output_type": "stream",
     "text": [
      "(('a', 'b', 'c'),)\n",
      "('a', 'b', 'c')\n",
      "{'java': '咖啡', 'python': '蛇', 'golang': '地鼠'}\n"
     ]
    }
   ],
   "source": [
    "# 参数的两种打包形式：元素、字典\n",
    "dicta={1:'java',2:'python',3:'golang'}\n",
    "def test(*tuple_param):\n",
    "    print(tuple_param)\n",
    "param1=('a','b','c')\n",
    "test(param1) # param1需要解包才能向test传递，否则会被当作元组的一个元素\n",
    "test(*param1)\n",
    "\n",
    "def test2(**dict_param):\n",
    "    print(dict_param)\n",
    "# test2(*dicta)\n",
    "# test2(**dicta) key为数字，传不进去\n",
    "dictb={'java':'咖啡','python':'蛇','golang':'地鼠'}\n",
    "test2(**dictb)"
   ]
  },
  {
   "cell_type": "code",
   "execution_count": null,
   "id": "0cadecd3",
   "metadata": {},
   "outputs": [
    {
     "name": "stdout",
     "output_type": "stream",
     "text": [
      "{1, 2, 3}\n",
      "[1, 2, 3, 4, 5, 6, 7]\n",
      "python\n",
      "java\n",
      "not exists\n",
      "{'python', 'golang'}\n",
      "frozenset({1, 2, 3, 5})\n"
     ]
    },
    {
     "ename": "AttributeError",
     "evalue": "'frozenset' object has no attribute 'add'",
     "output_type": "error",
     "traceback": [
      "\u001b[31m---------------------------------------------------------------------------\u001b[39m",
      "\u001b[31mAttributeError\u001b[39m                            Traceback (most recent call last)",
      "\u001b[36mCell\u001b[39m\u001b[36m \u001b[39m\u001b[32mIn[45]\u001b[39m\u001b[32m, line 24\u001b[39m\n\u001b[32m     22\u001b[39m set2=\u001b[38;5;28mfrozenset\u001b[39m({\u001b[32m1\u001b[39m,\u001b[32m2\u001b[39m,\u001b[32m3\u001b[39m,\u001b[32m3\u001b[39m,\u001b[32m5\u001b[39m})\n\u001b[32m     23\u001b[39m \u001b[38;5;28mprint\u001b[39m(set2)\n\u001b[32m---> \u001b[39m\u001b[32m24\u001b[39m \u001b[43mset2\u001b[49m\u001b[43m.\u001b[49m\u001b[43madd\u001b[49m(\u001b[32m6\u001b[39m)\n",
      "\u001b[31mAttributeError\u001b[39m: 'frozenset' object has no attribute 'add'"
     ]
    }
   ],
   "source": [
    "# python的集合类型（set）：集合中的元素唯一，跟字典一样也是用大括号括起来\n",
    "# 集合是无序的，无法通过一个index去索引集合中的某个元素\n",
    "nums={1,2,3,3,2,1}\n",
    "print(nums)\n",
    "# 创建集合的两种方式\n",
    "set1={'java','python'}\n",
    "set2=set(['java','python'])\n",
    "set1==set2\n",
    "\n",
    "#python 去除list中的重复元素\n",
    "list1=[6,1,2,3,4,4,5,3,7]\n",
    "list1=list(set(list1))\n",
    "print(list1) # 注意源list中的元素顺序不能保证\n",
    "for item in set1:\n",
    "    print(item)\n",
    "set1.add('golang')\n",
    "set1.remove('java')\n",
    "if('java' not in set1):\n",
    "    print('not exists')\n",
    "print(set1)\n",
    "# 不可变集合\n",
    "set2=frozenset({1,2,3,3,5})\n",
    "print(set2)\n",
    "set2.add(6) # 'frozenset' object has no attribute 'add'"
   ]
  },
  {
   "cell_type": "code",
   "execution_count": 82,
   "id": "896748a7",
   "metadata": {},
   "outputs": [
    {
     "name": "stdout",
     "output_type": "stream",
     "text": [
      "# AIResearch\n",
      "\n",
      "\n",
      "\n",
      "14\n",
      "['# 第四次工业革命启动\\n', ' 以前解放的是体力，现在解放的是脑力\\n', '这是python程序写入的内容\\n', '这是python程序写入的内容\\n', '这是python程序写入的内容\\n']\n",
      "次工业革命启动\n",
      " 以前解放的是体力，现在解放的是脑力\n",
      "这是python程序写入的内容\n",
      "这是python程序写入的内容\n",
      "这是python程序写入的内容\n",
      "\n",
      "在迭代中读取行:# AIResearch\n",
      "\n",
      "在迭代中读取行:\n",
      "\n",
      "在迭代中读取行:# 第四次工业革命启动\n",
      "\n",
      "在迭代中读取行: 以前解放的是体力，现在解放的是脑力\n",
      "\n",
      "在迭代中读取行:这是python程序写入的内容\n",
      "\n",
      "在迭代中读取行:这是python程序写入的内容\n",
      "\n",
      "在迭代中读取行:这是python程序写入的内容\n",
      "\n"
     ]
    }
   ],
   "source": [
    "# python的文件操作\n",
    "f=open(r'/Users/hedefu/Developer/CodeRepo/AIResearch/README.md')\n",
    "# f=open('/Users/hedefu/Developer/CodeRepo/AIResearch/README.md',mode='rw')\n",
    "# print(f.read())\n",
    "\n",
    "print(f.readline())\n",
    "print(f.readline())\n",
    "print(f.tell()) # 文件读取到了哪个位置？\n",
    "print(list(f)) # 把文件内容行放到list里\n",
    "f.seek(22,0) #从文件开始（0）偏移一定数量（20）字节开始，偏移数量乱写可能导致解码器报错\n",
    "# f.seek(0,1) 从当前位置开始\n",
    "# f.seek(0,1) 到文件末尾\n",
    "print(f.read())\n",
    "\n",
    "# 直接使用python的文件迭代功能处理\n",
    "f.seek(0, 0) # 重置到文件开头\n",
    "for line in f:\n",
    "    print(f'在迭代中读取行:{line}')\n",
    "\n",
    "# f.write('python 文件操作')\n",
    "f.close()\n",
    "\n",
    "# 写入方式打开文件，w表示覆盖式写入，a表示追加到文件末尾，x-文件已存在会引发异常\n",
    "readme = open(r'/Users/hedefu/Developer/CodeRepo/AIResearch/README.md','a')\n",
    "readme.write('这是python程序写入的内容\\n')\n",
    "readme.close()"
   ]
  },
  {
   "cell_type": "code",
   "execution_count": null,
   "id": "33567e50",
   "metadata": {},
   "outputs": [
    {
     "name": "stdout",
     "output_type": "stream",
     "text": [
      "开始处理小客服:你好，借个鸡巴客服\n",
      "\n",
      "开始处理小甲鱼:喂，你好，我都已经还清了，为什么还有欠款啊\n",
      "\n",
      "开始处理小客服:好的收到，先别急，马上查询\n",
      "\n",
      "开始处理小甲鱼:就是我昨天在银行那边...\n",
      "\n",
      "开始处理小客服:核实下账号是您来电的手机号码吗\n",
      "\n",
      "开始处理小客服:这边确实看到仍有欠款5.32元，这边先登记帮你核实\n",
      "\n",
      "开始处理小甲鱼:大概要多久啊\n",
      "\n",
      "开始处理小客服:大概要3个工作日\n",
      "\n"
     ]
    }
   ],
   "source": [
    "# 将speech_records.txt中的内容分别摘到两个文件里\n",
    "records=open(r'/Users/hedefu/Developer/CodeRepo/AIResearch/speech_records.txt')\n",
    "records_小甲鱼=open(r'/Users/hedefu/Developer/CodeRepo/AIResearch/speech_records1.txt', 'a')\n",
    "records_小客服=open(r'/Users/hedefu/Developer/CodeRepo/AIResearch/speech_records2.txt', 'a')\n",
    "for line in records:\n",
    "    print(f'开始处理{line}')\n",
    "    if(line.startswith('小甲鱼')):\n",
    "        records_小甲鱼.write(line)\n",
    "    else:\n",
    "        records_小客服.write(line)\n",
    "# 文件如果不关闭，会出现不存在就首次创建时写入内容丢失，应使用with as\n",
    "records.close()\n",
    "records_小甲鱼.close()\n",
    "records_小客服.close()"
   ]
  },
  {
   "cell_type": "code",
   "execution_count": 97,
   "id": "79411d2b",
   "metadata": {},
   "outputs": [],
   "source": [
    "# 企业级优雅处理文件\n",
    "try:\n",
    "    with open(r'/Users/hedefu/Developer/CodeRepo/AIResearch/speech_records4.txt','a') as records2:\n",
    "        records2.write('似乎第一次写不进去\\n')\n",
    "        records2.writelines('使用writelines api写入一行\\n')\n",
    "except Exception as e:\n",
    "    print(f'error in processing {e}')"
   ]
  },
  {
   "cell_type": "code",
   "execution_count": null,
   "id": "5c053ca9",
   "metadata": {},
   "outputs": [
    {
     "name": "stdout",
     "output_type": "stream",
     "text": [
      "/Users/hedefu\n",
      "['hedefu', '.localized', 'Shared', 'root']\n",
      "None\n"
     ]
    }
   ],
   "source": [
    "# import os模块\n",
    "import os\n",
    "print(os.getcwd())\n",
    "# ~ home目录的上级目录下有啥\n",
    "print(os.listdir(path='..'))\n",
    "# 删除文件remove 删除目录-rmdir 删除多级目录-removedirs\n",
    "print(os.remove('Developer/CodeRepo/AIResearch/speech_records4.txt'))\n",
    "# mkdir创建文件夹 makedirs创建多层文件夹\n",
    "# os.mkdir('test')\n",
    "os.makedirs('Developer/CodeRepo/AIResearch/test')\n",
    "# 重命名文件夹\n",
    "os.rename('Developer/CodeRepo/AIResearch/test', 'Developer/CodeRepo/AIResearch/test2')"
   ]
  },
  {
   "cell_type": "code",
   "execution_count": null,
   "id": "098904a4",
   "metadata": {},
   "outputs": [
    {
     "name": "stdout",
     "output_type": "stream",
     "text": [
      "('.', ['.config', 'Music', '.cursor', 'Developer', '.wns', '.trae', 'anaconda_projects', '.continue', '.local', 'Pictures', '.ipython', '.lingma', 'Desktop', 'Library', '.sdkman', '.trae-aicc', '.android', 'BreadMaker', 'Public', '.marscode', '.anaconda', '.ssh', 'Movies', 'Applications', 'Designer', '.Trash', '.codeverse', '.ipynb_checkpoints', '.jupyter', 'Documents', '.pyenv', '.vscode', '.m2', '.oh-my-zsh', 'Downloads', '.redhat', '.continuum', '.cache', '.zsh_sessions', '.conda', 'miniconda3'], ['.condarc', '.zcompdump-MasterBookPro-5.8.1.zwc', '.DS_Store', '.CFUserTextEncoding', '.xonshrc', '.zshrc', '.zprofile', '.zcompdump-MasterBookPro-5.8.1', '.zsh_history', '.lesshst', '.p10k.zsh', '.tcshrc', '.bash_profile', '.python_history', '.gitconfig', '.viminfo'])\n",
      "('./.config', ['Cursor', 'pip', 'iterm2', 'fish', 'karabiner'], [])\n",
      "('./.config/Cursor', ['User'], [])\n",
      "('./.config/Cursor/User', ['globalStorage'], [])\n",
      "('./.config/Cursor/User/globalStorage', [], ['state.vscdb'])\n",
      "('./.config/pip', [], ['pip.conf'])\n",
      "('./.config/iterm2', ['AppSupport', 'sockets'], [])\n",
      "('./.config/iterm2/sockets', [], ['secrets'])\n",
      "('./.config/fish', [], ['config.fish'])\n",
      "('./.config/karabiner', ['assets', 'automatic_backups'], ['karabiner.json'])\n",
      ".\n",
      "..\n",
      "路径分隔符-/\n",
      "当前系统换行符\n",
      "\n",
      "操作系统名称-posix\n"
     ]
    }
   ],
   "source": [
    "import os\n",
    "# walk返回一个三元组，分别是父目录、所有文件夹、所有文件\n",
    "for index,contents in enumerate(os.walk('.')):\n",
    "    if(index < 10):\n",
    "        print(contents)\n",
    "    else:\n",
    "        break\n",
    "print(os.curdir)\n",
    "print(os.pardir)\n",
    "print('路径分隔符-'+os.sep) # 路径分隔符\n",
    "print('当前系统换行符-'+os.linesep) # 当前操作系统的换行符\n",
    "print('操作系统名称-'+os.name)"
   ]
  },
  {
   "cell_type": "code",
   "execution_count": null,
   "id": "b40fb8ed",
   "metadata": {},
   "outputs": [],
   "source": [
    "# 来吃点泡菜\n",
    "import pickle\n",
    "my_list=[123,3.14,'小甲鱼',['apple','banana']]\n",
    "pickle_file=open()\n",
    "运行至8.3"
   ]
  }
 ],
 "metadata": {
  "kernelspec": {
   "display_name": "Python 3 (ipykernel)",
   "language": "python",
   "name": "python3"
  },
  "language_info": {
   "codemirror_mode": {
    "name": "ipython",
    "version": 3
   },
   "file_extension": ".py",
   "mimetype": "text/x-python",
   "name": "python",
   "nbconvert_exporter": "python",
   "pygments_lexer": "ipython3",
   "version": "3.13.0"
  }
 },
 "nbformat": 4,
 "nbformat_minor": 5
}
