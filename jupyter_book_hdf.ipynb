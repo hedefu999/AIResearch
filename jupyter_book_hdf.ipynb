{
 "cells": [
  {
   "cell_type": "code",
   "execution_count": null,
   "id": "bfe7227f-8080-449b-a081-e0ea00039b44",
   "metadata": {},
   "outputs": [],
   "source": [
    "dictA=dict((('apple','苹果'),('banana','香蕉'),('orange','橘子')))\n",
    "keys = dictA.keys()\n",
    "print(type(keys)) # dict_keys 是个什么奇怪的类型\n",
    "print(keys)\n",
    "\n",
    "dictA.values()\n",
    "# dictA.items()"
   ]
  },
  {
   "cell_type": "markdown",
   "id": "34868a86",
   "metadata": {},
   "source": [
    "> 下面是代码\n",
    "**这里写markdown，我有点不乐意**\n",
    "jupyter notebook 还有vscode插件，蛮好用的\n",
    "今天傻乎乎装了个 anaconda navigator 作为开发着看到这个产品直倒胃口\n",
    "还是minconda搞个 condaCLI好用\n",
    "还是简洁的敲命令最好\n",
    "继续进行python练习代码\n",
    "\n",
    "## dict内部方法"
   ]
  },
  {
   "cell_type": "code",
   "execution_count": null,
   "id": "c17fd97f",
   "metadata": {},
   "outputs": [],
   "source": [
    "dictA=dict((('apple','苹果'),('banana','香蕉'),('orange','橘子')))\n",
    "# dictA['conda'] 这样写会抛异常\n",
    "print(dictA.get('conda')) # 返回None\n",
    "dictA.get('conda','None') # 返回 ‘None’\n",
    "if('apple' in dictA):\n",
    "    print('has apple')\n",
    "if('conda' not in dictA):\n",
    "    print('no conda found')\n",
    "dictB=dictA.copy()\n",
    "dictA.clear() # 清空字典\n",
    "print(dictB)\n",
    "print(dictB.pop('orange')) # pop了少一个元素，返回key对应的value\n",
    "print(dictB)\n",
    "print(dictB.popitem()) # 弹出最后一个元素，不支持传递key\n"
   ]
  },
  {
   "cell_type": "code",
   "execution_count": null,
   "id": "84f80955",
   "metadata": {},
   "outputs": [],
   "source": [
    "dicta=dict((('apple','苹果'),('banana','香蕉'),('orange','橘子')))\n",
    "dicta.setdefault('apple','大苹果') # 安全添加元素，存在时不覆盖 putIfAbsent\n",
    "dicta['apple2']='大苹果'\n",
    "dicta.update(apple2='苹果2') # 更新字典值\n",
    "print(dicta)"
   ]
  },
  {
   "cell_type": "code",
   "execution_count": null,
   "id": "e8f2001c",
   "metadata": {},
   "outputs": [],
   "source": [
    "# 参数的两种打包形式：元素、字典\n",
    "dicta={1:'java',2:'python',3:'golang'}\n",
    "def test(*tuple_param):\n",
    "    print(tuple_param)\n",
    "param1=('a','b','c')\n",
    "test(param1) # param1需要解包才能向test传递，否则会被当作元组的一个元素\n",
    "test(*param1)\n",
    "\n",
    "def test2(**dict_param):\n",
    "    print(dict_param)\n",
    "# test2(*dicta)\n",
    "# test2(**dicta) key为数字，传不进去\n",
    "dictb={'java':'咖啡','python':'蛇','golang':'地鼠'}\n",
    "test2(**dictb)"
   ]
  },
  {
   "cell_type": "code",
   "execution_count": null,
   "id": "0cadecd3",
   "metadata": {},
   "outputs": [],
   "source": [
    "# python的集合类型（set）：集合中的元素唯一，跟字典一样也是用大括号括起来\n",
    "# 集合是无序的，无法通过一个index去索引集合中的某个元素\n",
    "nums={1,2,3,3,2,1}\n",
    "print(nums)\n",
    "# 创建集合的两种方式\n",
    "set1={'java','python'}\n",
    "set2=set(['java','python'])\n",
    "set1==set2\n",
    "\n",
    "#python 去除list中的重复元素\n",
    "list1=[6,1,2,3,4,4,5,3,7]\n",
    "list1=list(set(list1))\n",
    "print(list1) # 注意源list中的元素顺序不能保证\n",
    "for item in set1:\n",
    "    print(item)\n",
    "set1.add('golang')\n",
    "set1.remove('java')\n",
    "if('java' not in set1):\n",
    "    print('not exists')\n",
    "print(set1)\n",
    "# 不可变集合\n",
    "set2=frozenset({1,2,3,3,5})\n",
    "print(set2)\n",
    "set2.add(6) # 'frozenset' object has no attribute 'add'"
   ]
  },
  {
   "cell_type": "code",
   "execution_count": null,
   "id": "896748a7",
   "metadata": {},
   "outputs": [],
   "source": [
    "# python的文件操作\n",
    "f=open(r'/Users/hedefu/Developer/CodeRepo/AIResearch/README.md')\n",
    "# f=open('/Users/hedefu/Developer/CodeRepo/AIResearch/README.md',mode='rw')\n",
    "# print(f.read())\n",
    "\n",
    "print(f.readline())\n",
    "print(f.readline())\n",
    "print(f.tell()) # 文件读取到了哪个位置？\n",
    "print(list(f)) # 把文件内容行放到list里\n",
    "f.seek(22,0) #从文件开始（0）偏移一定数量（20）字节开始，偏移数量乱写可能导致解码器报错\n",
    "# f.seek(0,1) 从当前位置开始\n",
    "# f.seek(0,1) 到文件末尾\n",
    "print(f.read())\n",
    "\n",
    "# 直接使用python的文件迭代功能处理\n",
    "f.seek(0, 0) # 重置到文件开头\n",
    "for line in f:\n",
    "    print(f'在迭代中读取行:{line}')\n",
    "\n",
    "# f.write('python 文件操作')\n",
    "f.close()\n",
    "\n",
    "# 写入方式打开文件，w表示覆盖式写入，a表示追加到文件末尾，x-文件已存在会引发异常\n",
    "readme = open(r'/Users/hedefu/Developer/CodeRepo/AIResearch/README.md','a')\n",
    "readme.write('这是python程序写入的内容\\n')\n",
    "readme.close()"
   ]
  },
  {
   "cell_type": "code",
   "execution_count": null,
   "id": "33567e50",
   "metadata": {},
   "outputs": [],
   "source": [
    "# 将speech_records.txt中的内容分别摘到两个文件里\n",
    "records=open(r'/Users/hedefu/Developer/CodeRepo/AIResearch/speech_records.txt')\n",
    "records_小甲鱼=open(r'/Users/hedefu/Developer/CodeRepo/AIResearch/speech_records1.txt', 'a')\n",
    "records_小客服=open(r'/Users/hedefu/Developer/CodeRepo/AIResearch/speech_records2.txt', 'a')\n",
    "for line in records:\n",
    "    print(f'开始处理{line}')\n",
    "    if(line.startswith('小甲鱼')):\n",
    "        records_小甲鱼.write(line)\n",
    "    else:\n",
    "        records_小客服.write(line)\n",
    "# 文件如果不关闭，会出现不存在就首次创建时写入内容丢失，应使用with as\n",
    "records.close()\n",
    "records_小甲鱼.close()\n",
    "records_小客服.close()"
   ]
  },
  {
   "cell_type": "code",
   "execution_count": null,
   "id": "79411d2b",
   "metadata": {},
   "outputs": [],
   "source": [
    "# 企业级优雅处理文件\n",
    "try:\n",
    "    with open(r'/Users/hedefu/Developer/CodeRepo/AIResearch/speech_records4.txt','a') as records2:\n",
    "        records2.write('似乎第一次写不进去\\n')\n",
    "        records2.writelines('使用writelines api写入一行\\n')\n",
    "except Exception as e:\n",
    "    print(f'error in processing {e}')"
   ]
  },
  {
   "cell_type": "code",
   "execution_count": null,
   "id": "5c053ca9",
   "metadata": {},
   "outputs": [],
   "source": [
    "# import os模块\n",
    "import os\n",
    "print(os.getcwd())\n",
    "# ~ home目录的上级目录下有啥\n",
    "print(os.listdir(path='..'))\n",
    "# 删除文件remove 删除目录-rmdir 删除多级目录-removedirs\n",
    "print(os.remove('Developer/CodeRepo/AIResearch/speech_records4.txt'))\n",
    "# mkdir创建文件夹 makedirs创建多层文件夹\n",
    "# os.mkdir('test')\n",
    "os.makedirs('Developer/CodeRepo/AIResearch/test')\n",
    "# 重命名文件夹\n",
    "os.rename('Developer/CodeRepo/AIResearch/test', 'Developer/CodeRepo/AIResearch/test2')"
   ]
  },
  {
   "cell_type": "code",
   "execution_count": null,
   "id": "098904a4",
   "metadata": {},
   "outputs": [],
   "source": [
    "import os\n",
    "# walk返回一个三元组，分别是父目录、所有文件夹、所有文件\n",
    "for index,contents in enumerate(os.walk('.')):\n",
    "    if(index < 10):\n",
    "        print(contents)\n",
    "    else:\n",
    "        break\n",
    "print(os.curdir)\n",
    "print(os.pardir)\n",
    "print('路径分隔符-'+os.sep) # 路径分隔符\n",
    "print('当前系统换行符-'+os.linesep) # 当前操作系统的换行符\n",
    "print('操作系统名称-'+os.name)"
   ]
  },
  {
   "cell_type": "code",
   "execution_count": 119,
   "id": "b40fb8ed",
   "metadata": {},
   "outputs": [
    {
     "name": "stdout",
     "output_type": "stream",
     "text": [
      "[123, 3.14, '小甲鱼', ['apple', 'banana']]\n"
     ]
    }
   ],
   "source": [
    "# pickle-泡菜 类似java的对象序列化，将对象写入二进制文件\n",
    "import pickle\n",
    "pickle_file_path='/Users/hedefu/Developer/CodeRepo/AIResearch/pickle_test.pkl'\n",
    "my_list=[123,3.14,'小甲鱼',['apple','banana']]\n",
    "with open(pickle_file_path, 'rb+') as pickle_file:\n",
    "    pickle.dump(my_list, pickle_file)\n",
    "    # 使用pickle读取二进制序列化文件\n",
    "    # 不重置文件指针会发生 EOFError: Ran out of input，\n",
    "    pickle_file.seek(0,0)\n",
    "    saved_list=pickle.load(pickle_file)\n",
    "    print(saved_list)"
   ]
  },
  {
   "cell_type": "code",
   "execution_count": 127,
   "id": "973f3b3d",
   "metadata": {},
   "outputs": [
    {
     "name": "stdout",
     "output_type": "stream",
     "text": [
      "hello\n",
      "兜底exception=by zero了\n",
      "这里再抛异常兜不住的\n"
     ]
    }
   ],
   "source": [
    "# python的异常处理机制\n",
    "try:\n",
    "    print('hello')\n",
    "    raise ZeroDivisionError('by zero了')\n",
    "except (OSError, TypeError) as err:\n",
    "    print(f'出错原因:{err}')\n",
    "except Exception as err:\n",
    "    print(f'兜底exception={err}')\n",
    "finally:\n",
    "    print('这里再抛异常兜不住的')"
   ]
  },
  {
   "cell_type": "code",
   "execution_count": 131,
   "id": "8b6fe3af",
   "metadata": {},
   "outputs": [
    {
     "name": "stdout",
     "output_type": "stream",
     "text": [
      "3.0\n",
      "89是素数\n"
     ]
    }
   ],
   "source": [
    "# python中else的一些特殊用法\n",
    "print(10.0//3.0)\n",
    "def showMaxFactor(num):\n",
    "    count=num//2\n",
    "    while count > 1:\n",
    "        if(num % count == 0):\n",
    "            print('找到约数 - %d' % count)\n",
    "            break\n",
    "        count-=1\n",
    "    else:\n",
    "        print('%d是素数' % num)\n",
    "numinput=int(input('请输入一个数'))\n",
    "showMaxFactor(numinput)"
   ]
  },
  {
   "cell_type": "code",
   "execution_count": null,
   "id": "d68b1a4a",
   "metadata": {},
   "outputs": [
    {
     "name": "stdout",
     "output_type": "stream",
     "text": [
      "未发生异常\n"
     ]
    }
   ],
   "source": [
    "try:\n",
    "    # int('abc')\n",
    "    # print('保证不发生异常')\n",
    "    pass # python代码空转可以使用pass实现\n",
    "except Exception as reason:\n",
    "    print('出错了%s' % str(reason))\n",
    "else:\n",
    "    print('未发生异常')"
   ]
  },
  {
   "cell_type": "markdown",
   "id": "6bef8eb2",
   "metadata": {},
   "source": [
    "# 终于到了python的面向对象\n",
    "\n",
    "> 不推荐使用多重继承，在菱形继承场景下会带来风险。推荐使用组合、抽象类继承等"
   ]
  },
  {
   "cell_type": "code",
   "execution_count": null,
   "id": "82323f20",
   "metadata": {},
   "outputs": [
    {
     "name": "stdout",
     "output_type": "stream",
     "text": [
      "我小乌龟用4条green腿爬\n",
      "小乌龟\n"
     ]
    }
   ],
   "source": [
    "class Turtle:\n",
    "    color='green'\n",
    "    weight=10\n",
    "    legs=4\n",
    "    # 属性/方法名称前添加两个下划线表示private\n",
    "    __name='乌龟'\n",
    "    def __init__(self, color):\n",
    "        self.color=color\n",
    "    def __init__(self, name):\n",
    "        self.__name=name\n",
    "    def climb(self):\n",
    "        print(f'我{self.__name}用{self.legs}条{self.color}腿爬')\n",
    "\n",
    "# tt=Turtle('dark')\n",
    "tt=Turtle('小乌龟')\n",
    "tt.climb()\n",
    "# python的private是假的\n",
    "# 虽说两条下划线可以实现变量私有，但python只是将变量改名了，换个名字就找到了\n",
    "print(tt._Turtle__name)"
   ]
  },
  {
   "cell_type": "code",
   "execution_count": null,
   "id": "04cb4f56",
   "metadata": {},
   "outputs": [
    {
     "name": "stdout",
     "output_type": "stream",
     "text": [
      "当前位置 9 9\n",
      "当前位置 1 5\n",
      "当前位置 0 5\n",
      "鲨鱼要吃\n",
      "鲨鱼吃饱了\n",
      "-=-=-=-=-=-=-=\n",
      "当前位置 7 0\n",
      "当前位置 6 0\n"
     ]
    }
   ],
   "source": [
    "import random as r\n",
    "class Fish:\n",
    "    def __init__(self):\n",
    "        self.x=r.randint(0,10)\n",
    "        self.y=r.randint(0,10)\n",
    "    def move(self):\n",
    "        self.x-=1\n",
    "        print('当前位置', self.x, self.y)\n",
    "class Goldfish(Fish):\n",
    "    pass\n",
    "class Carp(Fish):\n",
    "    pass\n",
    "class Salmon(Fish):\n",
    "    pass\n",
    "class Shark(Fish):\n",
    "    hungry=False\n",
    "    def __init__(self):\n",
    "        # 调用父类的初始化方法，super()直接调init\n",
    "        # Fish.__init__(self) 这样也能调，但父类改名就很麻烦\n",
    "        super().__init__()\n",
    "        self.hungry=True\n",
    "    def eat(self):\n",
    "        if self.hungry:\n",
    "            print('鲨鱼要吃')\n",
    "            self.hungry=False\n",
    "        else:\n",
    "            print('鲨鱼吃饱了')\n",
    "\n",
    "fish=Fish()\n",
    "fish.move()\n",
    "goldfish=Goldfish()\n",
    "goldfish.move()\n",
    "goldfish.move()\n",
    "shark=Shark()\n",
    "shark.eat()\n",
    "shark.eat()\n",
    "\n",
    "print('-=-=-=-=-=-=-=')\n",
    "shark.move()\n",
    "shark.move()"
   ]
  },
  {
   "cell_type": "code",
   "execution_count": null,
   "id": "6dce01a7",
   "metadata": {},
   "outputs": [
    {
     "name": "stdout",
     "output_type": "stream",
     "text": [
      "Log: connecting to database...\n",
      "Log: Reading file: example.txt\n",
      "Log: write to file: example.txt\n",
      "Log: content: hello\n"
     ]
    }
   ],
   "source": [
    "# 大名鼎鼎的 Mixin 设计模式\n",
    "class LoggingMixin:\n",
    "    def log(self, message):\n",
    "        print(f'Log: {message}')\n",
    "class DatabaseConnection(LoggingMixin):\n",
    "    def connect(self):\n",
    "        self.log('connecting to database...')\n",
    "class FileHandler(LoggingMixin):\n",
    "    def read_file(self, filename):\n",
    "        self.log(f'Reading file: {filename}')\n",
    "    def write_file(self, filename, content):\n",
    "        self.log(f'write to file: {filename}')\n",
    "        self.log(f'content: {content}')\n",
    "\n",
    "# 使用这些类\n",
    "db_con=DatabaseConnection()\n",
    "db_con.connect()\n",
    "file_handl=FileHandler()\n",
    "file_handl.read_file('example.txt')\n",
    "file_handl.write_file('example.txt','hello')\n",
    "# 没看出这种设计模式的优点\n"
   ]
  },
  {
   "cell_type": "code",
   "execution_count": null,
   "id": "fee70213",
   "metadata": {},
   "outputs": [
    {
     "name": "stdout",
     "output_type": "stream",
     "text": [
      "0 0 0\n",
      "0 0 10\n",
      "100 100 10\n"
     ]
    }
   ],
   "source": [
    "# 类、类对象和实例对象\n",
    "# 类中的方法名称不能跟变量名称相同\n",
    "class C:\n",
    "    count=0\n",
    "a=C()\n",
    "b=C()\n",
    "c=C()\n",
    "print(a.count, b.count, c.count)\n",
    "c.count+=10\n",
    "print(a.count, b.count, c.count)\n",
    "C.count+=100\n",
    "print(a.count, b.count, c.count)\n",
    "# 最后c.count是10，不是110！"
   ]
  },
  {
   "cell_type": "code",
   "execution_count": null,
   "id": "932b2e5d",
   "metadata": {},
   "outputs": [
    {
     "name": "stdout",
     "output_type": "stream",
     "text": [
      "unnown\n"
     ]
    }
   ],
   "source": [
    "# python绑定机制：严格要求方法必须通过类实例调用\n",
    "# 但没有实例，下述写法方法也能被调用\n",
    "class BB:\n",
    "    def printBB():\n",
    "        print('unnown')\n",
    "BB.printBB()\n",
    "# 此时通过实例再调用方法反而报错\n",
    "bb=BB()\n",
    "bb.printBB()\n",
    "# BB.printBB() takes 0 positional arguments but 1 was given\n",
    "# pyhotn绑定机制，自动将bb作为第一个参数传入，所以出现报错"
   ]
  },
  {
   "cell_type": "code",
   "execution_count": 10,
   "id": "93b601e1",
   "metadata": {},
   "outputs": [
    {
     "name": "stdout",
     "output_type": "stream",
     "text": [
      "{}\n",
      "{'__module__': '__main__', 'setXY': <function CC.setXY at 0x7f3f913f0720>, 'printXY': <function CC.printXY at 0x7f3f913f1120>, '__dict__': <attribute '__dict__' of 'CC' objects>, '__weakref__': <attribute '__weakref__' of 'CC' objects>, '__doc__': None}\n",
      "{'x': 4, 'y': 5}\n",
      "{'__module__': '__main__', 'setXY': <function CC.setXY at 0x7f3f913f0720>, 'printXY': <function CC.printXY at 0x7f3f913f1120>, '__dict__': <attribute '__dict__' of 'CC' objects>, '__weakref__': <attribute '__weakref__' of 'CC' objects>, '__doc__': None}\n"
     ]
    }
   ],
   "source": [
    "class CC:\n",
    "    def setXY(self, x, y):\n",
    "        self.x=x\n",
    "        self.y=y\n",
    "    def printXY(self):\n",
    "        print(self.x, self.y)\n",
    "dd=CC()\n",
    "print(dd.__dict__) # 通过类实例获取其中的属性，只能得到属性字典\n",
    "print(CC.__dict__) # 类属性和特殊属性需要通过类访问\n",
    "dd.setXY(4,5)\n",
    "print(dd.__dict__) # 此时得到属性字典 x-4,y-5\n",
    "print(CC.__dict__)"
   ]
  },
  {
   "cell_type": "code",
   "execution_count": 11,
   "id": "ca091ba6",
   "metadata": {},
   "outputs": [
    {
     "name": "stdout",
     "output_type": "stream",
     "text": [
      "10\n",
      "12\n",
      "12\n"
     ]
    },
    {
     "ename": "AttributeError",
     "evalue": "'C' object has no attribute 'size'",
     "output_type": "error",
     "traceback": [
      "\u001b[31m---------------------------------------------------------------------------\u001b[39m",
      "\u001b[31mAttributeError\u001b[39m                            Traceback (most recent call last)",
      "\u001b[36mCell\u001b[39m\u001b[36m \u001b[39m\u001b[32mIn[11]\u001b[39m\u001b[32m, line 19\u001b[39m\n\u001b[32m     17\u001b[39m \u001b[38;5;28mprint\u001b[39m(c.size)\n\u001b[32m     18\u001b[39m \u001b[38;5;28;01mdel\u001b[39;00m c.x\n\u001b[32m---> \u001b[39m\u001b[32m19\u001b[39m \u001b[38;5;28mprint\u001b[39m(\u001b[43mc\u001b[49m\u001b[43m.\u001b[49m\u001b[43msize\u001b[49m)\n",
      "\u001b[31mAttributeError\u001b[39m: 'C' object has no attribute 'size'"
     ]
    }
   ],
   "source": [
    "# python奇怪的property方法\n",
    "class C:\n",
    "    def __init__(self, size=10):\n",
    "        self.size=size\n",
    "    def getSize(self):\n",
    "        return self.size\n",
    "    def setSize(self, value):\n",
    "        self.size = value\n",
    "    def delSize(self):\n",
    "        del self.size\n",
    "    x=property(getSize, setSize, delSize)\n",
    "\n",
    "c=C()\n",
    "print(c.x)\n",
    "c.x=12\n",
    "print(c.x)\n",
    "print(c.size)\n",
    "del c.x\n",
    "print(c.size)"
   ]
  },
  {
   "cell_type": "code",
   "execution_count": null,
   "id": "59a0e23e",
   "metadata": {},
   "outputs": [
    {
     "data": {
      "text/plain": [
       "'HELLO'"
      ]
     },
     "execution_count": 12,
     "metadata": {},
     "output_type": "execute_result"
    }
   ],
   "source": [
    "# python的魔法方法\n",
    "# __new__方法需要重写的时机：继承了不可变对象时\n",
    "class CapStr(str): # 继承了不可变对象str\n",
    "    def __new__(cls, string): # __new__方法传入的第一个参数是类对象，而__init__方法传入的第一个参数是类实例对象\n",
    "        string=string.upper()\n",
    "        return  str.__new__(cls, string)\n",
    "a=CapStr(\"hello\") # 字符串转大写\n",
    "a"
   ]
  },
  {
   "cell_type": "code",
   "execution_count": null,
   "id": "7c5b17a4",
   "metadata": {},
   "outputs": [
    {
     "name": "stdout",
     "output_type": "stream",
     "text": [
      "__init__方法被调用\n",
      "即将删除最后一个引用\n",
      "析构方法在垃圾收集器回收该类的时候才会调用\n"
     ]
    }
   ],
   "source": [
    "# 析构器 __del__\n",
    "class C:\n",
    "    def __init__(self):\n",
    "        print('__init__方法被调用')\n",
    "    def __del__(self):\n",
    "        print('析构方法在垃圾收集器回收该类的时候才会调用，并不是del方法触发')\n",
    "c1=C()\n",
    "c2=c1\n",
    "del c1\n",
    "print('即将删除最后一个引用')\n",
    "del c2"
   ]
  },
  {
   "cell_type": "code",
   "execution_count": null,
   "id": "0963e889",
   "metadata": {},
   "outputs": [
    {
     "name": "stdout",
     "output_type": "stream",
     "text": [
      "<class 'type'>\n",
      "<class 'builtin_function_or_method'>\n",
      "<class 'type'>\n",
      "<class 'type'>\n",
      "{'__new__': <built-in method __new__ of type object at 0x10b5b17e0>, '__repr__': <slot wrapper '__repr__' of 'int' objects>, '__hash__': <slot wrapper '__hash__' of 'int' objects>, '__getattribute__': <slot wrapper '__getattribute__' of 'int' objects>, '__lt__': <slot wrapper '__lt__' of 'int' objects>, '__le__': <slot wrapper '__le__' of 'int' objects>, '__eq__': <slot wrapper '__eq__' of 'int' objects>, '__ne__': <slot wrapper '__ne__' of 'int' objects>, '__gt__': <slot wrapper '__gt__' of 'int' objects>, '__ge__': <slot wrapper '__ge__' of 'int' objects>, '__add__': <slot wrapper '__add__' of 'int' objects>, '__radd__': <slot wrapper '__radd__' of 'int' objects>, '__sub__': <slot wrapper '__sub__' of 'int' objects>, '__rsub__': <slot wrapper '__rsub__' of 'int' objects>, '__mul__': <slot wrapper '__mul__' of 'int' objects>, '__rmul__': <slot wrapper '__rmul__' of 'int' objects>, '__mod__': <slot wrapper '__mod__' of 'int' objects>, '__rmod__': <slot wrapper '__rmod__' of 'int' objects>, '__divmod__': <slot wrapper '__divmod__' of 'int' objects>, '__rdivmod__': <slot wrapper '__rdivmod__' of 'int' objects>, '__pow__': <slot wrapper '__pow__' of 'int' objects>, '__rpow__': <slot wrapper '__rpow__' of 'int' objects>, '__neg__': <slot wrapper '__neg__' of 'int' objects>, '__pos__': <slot wrapper '__pos__' of 'int' objects>, '__abs__': <slot wrapper '__abs__' of 'int' objects>, '__bool__': <slot wrapper '__bool__' of 'int' objects>, '__invert__': <slot wrapper '__invert__' of 'int' objects>, '__lshift__': <slot wrapper '__lshift__' of 'int' objects>, '__rlshift__': <slot wrapper '__rlshift__' of 'int' objects>, '__rshift__': <slot wrapper '__rshift__' of 'int' objects>, '__rrshift__': <slot wrapper '__rrshift__' of 'int' objects>, '__and__': <slot wrapper '__and__' of 'int' objects>, '__rand__': <slot wrapper '__rand__' of 'int' objects>, '__xor__': <slot wrapper '__xor__' of 'int' objects>, '__rxor__': <slot wrapper '__rxor__' of 'int' objects>, '__or__': <slot wrapper '__or__' of 'int' objects>, '__ror__': <slot wrapper '__ror__' of 'int' objects>, '__int__': <slot wrapper '__int__' of 'int' objects>, '__float__': <slot wrapper '__float__' of 'int' objects>, '__floordiv__': <slot wrapper '__floordiv__' of 'int' objects>, '__rfloordiv__': <slot wrapper '__rfloordiv__' of 'int' objects>, '__truediv__': <slot wrapper '__truediv__' of 'int' objects>, '__rtruediv__': <slot wrapper '__rtruediv__' of 'int' objects>, '__index__': <slot wrapper '__index__' of 'int' objects>, 'conjugate': <method 'conjugate' of 'int' objects>, 'bit_length': <method 'bit_length' of 'int' objects>, 'bit_count': <method 'bit_count' of 'int' objects>, 'to_bytes': <method 'to_bytes' of 'int' objects>, 'from_bytes': <method 'from_bytes' of 'int' objects>, 'as_integer_ratio': <method 'as_integer_ratio' of 'int' objects>, '__trunc__': <method '__trunc__' of 'int' objects>, '__floor__': <method '__floor__' of 'int' objects>, '__ceil__': <method '__ceil__' of 'int' objects>, '__round__': <method '__round__' of 'int' objects>, '__getnewargs__': <method '__getnewargs__' of 'int' objects>, '__format__': <method '__format__' of 'int' objects>, '__sizeof__': <method '__sizeof__' of 'int' objects>, 'is_integer': <method 'is_integer' of 'int' objects>, 'real': <attribute 'real' of 'int' objects>, 'imag': <attribute 'imag' of 'int' objects>, 'numerator': <attribute 'numerator' of 'int' objects>, 'denominator': <attribute 'denominator' of 'int' objects>, '__doc__': \"int([x]) -> integer\\nint(x, base=10) -> integer\\n\\nConvert a number or string to an integer, or return 0 if no arguments\\nare given.  If x is a number, return x.__int__().  For floating-point\\nnumbers, this truncates towards zero.\\n\\nIf x is not a number or if base is given, then x must be a string,\\nbytes, or bytearray instance representing an integer literal in the\\ngiven base.  The literal can be preceded by '+' or '-' and be surrounded\\nby whitespace.  The base defaults to 10.  Valid bases are 0 and 2-36.\\nBase 0 means to interpret the base from the string as an integer literal.\\n>>> int('0b100', base=0)\\n4\"}\n"
     ]
    }
   ],
   "source": [
    "\n",
    "# python的工厂函数，如int() float() str() list() tuple()\n",
    "# 这些函数用于转换得到对应类型，与普通内置函数 BIF 如 len() 的不同在于\n",
    "print(type(float)) # <class 'type'>\n",
    "print(type(len)) # <class 'builtin_function_or_method'>\n",
    "print(type(type)) # <class 'type'>\n",
    "class C:\n",
    "    pass\n",
    "print(type(C)) # <class 'type'>\n",
    "# 返回 class 'type' 的表面这是一个python对象\n",
    "# 对于下述加法操作\n",
    "a=int('12')\n",
    "b=int('13')\n",
    "a+b # 25, 实际上a+b是两个对象的相加操作，自动调用了对象的魔法方法进行相加操作\n",
    "print(int.__dict__) # int对象内部定义了大量魔法方法\n",
    "# 算数运算相关的魔法方法有：__add__ __sub__ mul/truediv/floordiv/mod/divmod/pow"
   ]
  },
  {
   "cell_type": "code",
   "execution_count": null,
   "id": "ed92aa9d",
   "metadata": {},
   "outputs": [
    {
     "data": {
      "text/plain": [
       "3"
      ]
     },
     "execution_count": 13,
     "metadata": {},
     "output_type": "execute_result"
    }
   ],
   "source": [
    "# 重写pyhton对象的算术魔法方法 add/sub\n",
    "class New_int(int):\n",
    "    def __add__(self, other):\n",
    "        return int(self) + int(other) # 不可直接self+other，这会导致死循环\n",
    "    def __sub__(self, other):\n",
    "        return int(self) - int(other)\n",
    "a=New_int(1)\n",
    "b=New_int(2)\n",
    "a+b"
   ]
  },
  {
   "cell_type": "code",
   "execution_count": null,
   "id": "ffad5136",
   "metadata": {},
   "outputs": [
    {
     "name": "stdout",
     "output_type": "stream",
     "text": [
      "8\n",
      "-2\n"
     ]
    }
   ],
   "source": [
    "# 反运算：a+b 如果a没有定义__add__魔法方法，此时指定调b的\n",
    "class Reverse_int(int):\n",
    "    def __radd__(self, other): # 反运算的魔法方法名称都是 r开头的，上面的算术运算方法是一一对应的\n",
    "        return int.__sub__(other, self) #故意定义成想减看到效果，注意这里self跟other参数的顺序\n",
    "a=Reverse_int(5)\n",
    "b=Reverse_int(3)\n",
    "print(a+b) # 8 因为a有定义 __add__ 方法\n",
    "print(1+b) # 此时只能用b的radd魔法方法进行相加，结果得到 -2"
   ]
  },
  {
   "cell_type": "code",
   "execution_count": null,
   "id": "c0833401",
   "metadata": {},
   "outputs": [
    {
     "name": "stdout",
     "output_type": "stream",
     "text": [
      "未开始\n",
      "计时开始...\n",
      "计时结束\n"
     ]
    },
    {
     "data": {
      "text/plain": [
       "总运行时间3秒"
      ]
     },
     "execution_count": 39,
     "metadata": {},
     "output_type": "execute_result"
    }
   ],
   "source": [
    "import time as t\n",
    "class MyTimer:\n",
    "    def __init__(self):\n",
    "        self.unit=['年','月','天','小时','分钟','秒']\n",
    "        self.prompt='未开始'\n",
    "        self.lasted=[]\n",
    "        # self.start=0 # int object is not callable\n",
    "        # self.stop=0 # python认为start不可作为方法调用，因为方法与属性同名了，属性会覆盖方法\n",
    "    # 开始计时\n",
    "    def start1(self):\n",
    "        self.start = t.localtime()\n",
    "        print('计时开始...')\n",
    "    # 停止计时\n",
    "    def stop1(self):\n",
    "        # localtime 返回的是一个元组，元组的属性获取 self.stop.tm_year/self.stop[0]\n",
    "        self.stop=t.localtime()\n",
    "        print('计时结束')\n",
    "        self._calc() # 写成 _calc(self)、self._calc(self) 都报错了\n",
    "    # 计算运行时间\n",
    "    def _calc(self):\n",
    "        self.lasted=[]\n",
    "        self.prompt=''\n",
    "        for indx in range(6):\n",
    "            # localtime返回元组的value都是int类型\n",
    "            self.lasted.append(self.stop[indx] - self.start[indx])\n",
    "            # self.prompt += str(self.lasted[indx])\n",
    "            # self.prompt += str(self.unit[indx])\n",
    "            if(self.lasted[indx]):\n",
    "                self.prompt+=(str(self.lasted[indx]) + self.unit[indx])\n",
    "        if self.prompt == '':\n",
    "            self.prompt = '总运行时间0s'\n",
    "        else:\n",
    "            self.prompt = '总运行时间' + self.prompt\n",
    "    def __str__(self):\n",
    "        return self.prompt\n",
    "    __repr__=__str__ # 写一个toString方法\n",
    "    def __add__(self, other):\n",
    "        prompt='总共运行了'\n",
    "        result=[]\n",
    "        for index in range(6):\n",
    "            result.append(self.lasted[index]+other.lasted[index])\n",
    "            if result[index]:\n",
    "                prompt += (str(result[index])+self.unit[index])\n",
    "        return prompt\n",
    "t1=MyTimer()\n",
    "print(t1)\n",
    "t1.start1()\n",
    "t.sleep(3)\n",
    "t1.stop1()\n",
    "t1\n"
   ]
  },
  {
   "cell_type": "code",
   "execution_count": null,
   "id": "c13438c2",
   "metadata": {},
   "outputs": [
    {
     "ename": "AttributeError",
     "evalue": "'C' object has no attribute 'size'",
     "output_type": "error",
     "traceback": [
      "\u001b[31m---------------------------------------------------------------------------\u001b[39m",
      "\u001b[31mAttributeError\u001b[39m                            Traceback (most recent call last)",
      "\u001b[36mCell\u001b[39m\u001b[36m \u001b[39m\u001b[32mIn[43]\u001b[39m\u001b[32m, line 19\u001b[39m\n\u001b[32m     17\u001b[39m c.x\n\u001b[32m     18\u001b[39m \u001b[38;5;28;01mdel\u001b[39;00m c.x\n\u001b[32m---> \u001b[39m\u001b[32m19\u001b[39m \u001b[43mc\u001b[49m\u001b[43m.\u001b[49m\u001b[43msize\u001b[49m\n",
      "\u001b[31mAttributeError\u001b[39m: 'C' object has no attribute 'size'"
     ]
    }
   ],
   "source": [
    "# 属性操作方法 __getattr__ / __setattr__\n",
    "# property方法，用属性去访问属性\n",
    "class C:\n",
    "    def __init__(self, size=10):\n",
    "        self.size=size\n",
    "    def getsize(self):\n",
    "        return self.size\n",
    "    def setSIze(self, value):\n",
    "        self.size=value\n",
    "    def delSize(self):\n",
    "        del self.size\n",
    "    x=property(getsize,setSIze,delSize)\n",
    "\n",
    "c=C()\n",
    "c.x=12\n",
    "c.size # 12\n",
    "c.x\n",
    "del c.x\n",
    "c.size # 'C' object has no attribute 'size'"
   ]
  },
  {
   "cell_type": "code",
   "execution_count": 46,
   "id": "ce2a6e04",
   "metadata": {},
   "outputs": [
    {
     "name": "stdout",
     "output_type": "stream",
     "text": [
      "--invoking getattribute\n",
      "-- invoking getattr\n",
      "-- invoking setattr\n",
      "--invoking getattribute\n",
      "-- invoking setattr\n"
     ]
    }
   ],
   "source": [
    "# 覆写python属性相关的魔法方法\n",
    "class C:\n",
    "    def __getattribute__(self,name):\n",
    "        print('--invoking getattribute')\n",
    "        # 调用object基类的getattribute__方法\n",
    "        return super().__getattribute__(name)\n",
    "    def __setattr__(self, name, value):\n",
    "        print('-- invoking setattr')\n",
    "        super().__setattr__(name, value)\n",
    "    def __delattr__(self, name):\n",
    "        print('-- invoking delattr')\n",
    "        super().__delattr__(name)\n",
    "    def __getattr__(self, name):\n",
    "        print('-- invoking getattr')\n",
    "\n",
    "c=C()\n",
    "c.x\n",
    "c.x=1\n",
    "c.x\n",
    "setattr(c,'y','Yellow')"
   ]
  },
  {
   "cell_type": "code",
   "execution_count": null,
   "id": "8ae9e8e4",
   "metadata": {},
   "outputs": [
    {
     "name": "stdout",
     "output_type": "stream",
     "text": [
      "4\n"
     ]
    }
   ],
   "source": [
    "class Rectangle:\n",
    "    def __init__(self, width=0, height=0):\n",
    "        self.width=width\n",
    "        self.height=height\n",
    "    def __setattr__(self, name, value):\n",
    "        if name == 'square':\n",
    "            self.width=value\n",
    "            self.height=value\n",
    "        else:\n",
    "            self.name=value\n",
    "    def getArea(self):\n",
    "        return self.width * self.height\n",
    "    \n",
    "# r1=Rectangle(4,5)\n",
    "# 这个写法存在死循环：init方法初始化self.width=width时会导致__setattr__方法调用，此时会走else分支设置 self.width=value，这样又会触发setattr\n",
    "# 解决办法\n",
    "class Rectangle:\n",
    "    def __init__(self, width=0, height=0):\n",
    "        self.width=width\n",
    "        self.height=height\n",
    "    def __setattr__(self, name, value):\n",
    "        if name == 'square':\n",
    "            self.width=value\n",
    "            self.height=value\n",
    "        else:\n",
    "            # super().__setattr__(name, value) 有两种改法，避免出现循环的方式设置属性\n",
    "            self.__dict__[name]=value\n",
    "    def getArea(self):\n",
    "        return self.width * self.height\n",
    "r1=Rectangle(4,5)\n",
    "r1.getArea()\n",
    "print(r1.__dict__['width'])"
   ]
  },
  {
   "cell_type": "code",
   "execution_count": 54,
   "id": "8646e37f",
   "metadata": {},
   "outputs": [
    {
     "name": "stdout",
     "output_type": "stream",
     "text": [
      "getting ... <__main__.MyDescriptor object at 0x10e1a2a50> <__main__.Test object at 0x10e1a2510> <class '__main__.Test'>\n"
     ]
    }
   ],
   "source": [
    "# 定义一个描述符类\n",
    "class MyDescriptor:\n",
    "    # self是描述符类自身的实例，instance是描述符拥有者所在的类的实例，owner是描述符拥有者所在的类本身\n",
    "    def __get__(self, instance, owner):\n",
    "        print('getting ...', self, instance, owner)\n",
    "    def __set__(self, instance, value):\n",
    "        print('setting ...', self, instance, value)\n",
    "    def __delete__(self, instance):\n",
    "        print('deleting ...', self, instance)\n",
    "\n",
    "class Test:\n",
    "    x=MyDescriptor()\n",
    "\n",
    "test=Test()\n",
    "test.x # 触发描述符类的get方法调用，self是MyDescriptor、instance是Test实例、owner是Test类实例"
   ]
  },
  {
   "cell_type": "code",
   "execution_count": null,
   "id": "3d88494d",
   "metadata": {},
   "outputs": [
    {
     "data": {
      "text/plain": [
       "'这也可以？'"
      ]
     },
     "execution_count": 56,
     "metadata": {},
     "output_type": "execute_result"
    }
   ],
   "source": [
    "# 基于上述经验 自行实现一个property函数，掌握python property函数的原理\n",
    "# 借助魔法函数重写实现\n",
    "class MyProperty:\n",
    "    def __init__(self, fget=None, fset=None, fdel=None):\n",
    "        self.fget=fget\n",
    "        self.fset=fset\n",
    "        self.fdel=fdel\n",
    "    def __get__(self, instance, owner):\n",
    "        return self.fget(instance)\n",
    "    def __set__(self, instance, value):\n",
    "        self.fset(instance, value)\n",
    "    def __delete__(self, instance):\n",
    "        self.fdel(instance)\n",
    "\n",
    "class C:\n",
    "    def __init__(self):\n",
    "        self._x = None\n",
    "    def getX(self):\n",
    "        return self._x\n",
    "    def setX(self, value):\n",
    "        self._x = value\n",
    "    def delX(self):\n",
    "        del self._x\n",
    "    x = MyProperty(getX, setX, delX) # 将属性描述符类赋给一个字段\n",
    "    y = '这也可以？'\n",
    "\n",
    "# 使用这个自定义的属性描述符类\n",
    "c=C()\n",
    "c.x='X-man'\n",
    "c.y"
   ]
  },
  {
   "cell_type": "code",
   "execution_count": null,
   "id": "d8c001e6",
   "metadata": {},
   "outputs": [
    {
     "data": {
      "text/plain": [
       "86.0"
      ]
     },
     "execution_count": 61,
     "metadata": {},
     "output_type": "execute_result"
    }
   ],
   "source": [
    "# 借助属性描述符类实现华氏度 摄氏度 自动转换\n",
    "class Celsius:\n",
    "    def __init__(self, value=26.0):\n",
    "        self.value=float(value)\n",
    "    def __get__(self, instance, owner):\n",
    "        return self.value\n",
    "    def __set__(self, instance, value):\n",
    "        self.value = float(value)\n",
    "\n",
    "class Fahrenheit:\n",
    "    def __get__(self, instance, owner):\n",
    "        return instance.cel * 1.8 + 32\n",
    "    def __set__(self, instance, value):\n",
    "        instance.cel = (float(value)-32)/1.8\n",
    "\n",
    "class Temperature:\n",
    "    cel = Celsius() # 似乎将getter setter封装到了另一个类里，但cel并不是一个类实例，而是描述符类操作的属性\n",
    "    fah = Fahrenheit()\n",
    "\n",
    "temp=Temperature()\n",
    "temp.cel\n",
    "temp.fah\n",
    "temp.cel=30\n",
    "temp.fah"
   ]
  },
  {
   "cell_type": "code",
   "execution_count": null,
   "id": "f78062f8",
   "metadata": {},
   "outputs": [
    {
     "data": {
      "text/plain": [
       "{0: 0, 1: 0, 2: 1, 3: 0, 4: 0}"
      ]
     },
     "execution_count": 67,
     "metadata": {},
     "output_type": "execute_result"
    }
   ],
   "source": [
    "# 实现一个自定义的不可变列表，统计元素获取次数\n",
    "class CountList:\n",
    "    def __init__(self, *args):\n",
    "        self.values = [x for x in args] # 离谱的List初始化方法\n",
    "        # 使用dict统计list中元素的访问次数，由于list中可以存在重复元素，所以dict的key设计为list下标，而非其内部元素\n",
    "        self.count = {}.fromkeys(range(len(self.values)),0)\n",
    "    def __len__(self):\n",
    "        return len(self.values)\n",
    "    def __getitem__(self, key):\n",
    "        self.count[key]+=1\n",
    "        return self.values[key]\n",
    "    \n",
    "c1 = CountList(1,2,3,5,7,9)\n",
    "c2 = CountList(2,3,4,6,10)\n",
    "c1[1]+c2[2]\n",
    "c1.count\n",
    "c2.count\n",
    "yunxingdao 12.7"
   ]
  }
 ],
 "metadata": {
  "kernelspec": {
   "display_name": "Python 3 (ipykernel)",
   "language": "python",
   "name": "python3"
  },
  "language_info": {
   "codemirror_mode": {
    "name": "ipython",
    "version": 3
   },
   "file_extension": ".py",
   "mimetype": "text/x-python",
   "name": "python",
   "nbconvert_exporter": "python",
   "pygments_lexer": "ipython3",
   "version": "3.13.0"
  }
 },
 "nbformat": 4,
 "nbformat_minor": 5
}
