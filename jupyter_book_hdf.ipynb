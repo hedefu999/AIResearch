{
 "cells": [
  {
   "cell_type": "code",
   "execution_count": null,
   "id": "bfe7227f-8080-449b-a081-e0ea00039b44",
   "metadata": {},
   "outputs": [],
   "source": [
    "dictA=dict((('apple','苹果'),('banana','香蕉'),('orange','橘子')))\n",
    "keys = dictA.keys()\n",
    "print(type(keys)) # dict_keys 是个什么奇怪的类型\n",
    "print(keys)\n",
    "\n",
    "dictA.values()\n",
    "# dictA.items()"
   ]
  },
  {
   "cell_type": "markdown",
   "id": "34868a86",
   "metadata": {},
   "source": [
    "> 下面是代码\n",
    "**这里写markdown，我有点不乐意**\n",
    "jupyter notebook 还有vscode插件，蛮好用的\n",
    "今天傻乎乎装了个 anaconda navigator 作为开发着看到这个产品直倒胃口\n",
    "还是minconda搞个 condaCLI好用\n",
    "还是简洁的敲命令最好\n",
    "继续进行python练习代码\n",
    "\n",
    "## dict内部方法"
   ]
  },
  {
   "cell_type": "code",
   "execution_count": null,
   "id": "c17fd97f",
   "metadata": {},
   "outputs": [],
   "source": [
    "dictA=dict((('apple','苹果'),('banana','香蕉'),('orange','橘子')))\n",
    "# dictA['conda'] 这样写会抛异常\n",
    "print(dictA.get('conda')) # 返回None\n",
    "dictA.get('conda','None') # 返回 ‘None’\n",
    "if('apple' in dictA):\n",
    "    print('has apple')\n",
    "if('conda' not in dictA):\n",
    "    print('no conda found')\n",
    "dictB=dictA.copy()\n",
    "dictA.clear() # 清空字典\n",
    "print(dictB)\n",
    "print(dictB.pop('orange')) # pop了少一个元素，返回key对应的value\n",
    "print(dictB)\n",
    "print(dictB.popitem()) # 弹出最后一个元素，不支持传递key\n"
   ]
  },
  {
   "cell_type": "code",
   "execution_count": null,
   "id": "84f80955",
   "metadata": {},
   "outputs": [],
   "source": [
    "dicta=dict((('apple','苹果'),('banana','香蕉'),('orange','橘子')))\n",
    "dicta.setdefault('apple','大苹果') # 安全添加元素，存在时不覆盖 putIfAbsent\n",
    "dicta['apple2']='大苹果'\n",
    "dicta.update(apple2='苹果2') # 更新字典值\n",
    "print(dicta)"
   ]
  },
  {
   "cell_type": "code",
   "execution_count": null,
   "id": "e8f2001c",
   "metadata": {},
   "outputs": [],
   "source": [
    "# 参数的两种打包形式：元素、字典\n",
    "dicta={1:'java',2:'python',3:'golang'}\n",
    "def test(*tuple_param):\n",
    "    print(tuple_param)\n",
    "param1=('a','b','c')\n",
    "test(param1) # param1需要解包才能向test传递，否则会被当作元组的一个元素\n",
    "test(*param1)\n",
    "\n",
    "def test2(**dict_param):\n",
    "    print(dict_param)\n",
    "# test2(*dicta)\n",
    "# test2(**dicta) key为数字，传不进去\n",
    "dictb={'java':'咖啡','python':'蛇','golang':'地鼠'}\n",
    "test2(**dictb)"
   ]
  },
  {
   "cell_type": "code",
   "execution_count": null,
   "id": "0cadecd3",
   "metadata": {},
   "outputs": [],
   "source": [
    "# python的集合类型（set）：集合中的元素唯一，跟字典一样也是用大括号括起来\n",
    "# 集合是无序的，无法通过一个index去索引集合中的某个元素\n",
    "nums={1,2,3,3,2,1}\n",
    "print(nums)\n",
    "# 创建集合的两种方式\n",
    "set1={'java','python'}\n",
    "set2=set(['java','python'])\n",
    "set1==set2\n",
    "\n",
    "#python 去除list中的重复元素\n",
    "list1=[6,1,2,3,4,4,5,3,7]\n",
    "list1=list(set(list1))\n",
    "print(list1) # 注意源list中的元素顺序不能保证\n",
    "for item in set1:\n",
    "    print(item)\n",
    "set1.add('golang')\n",
    "set1.remove('java')\n",
    "if('java' not in set1):\n",
    "    print('not exists')\n",
    "print(set1)\n",
    "# 不可变集合\n",
    "set2=frozenset({1,2,3,3,5})\n",
    "print(set2)\n",
    "set2.add(6) # 'frozenset' object has no attribute 'add'"
   ]
  },
  {
   "cell_type": "code",
   "execution_count": null,
   "id": "896748a7",
   "metadata": {},
   "outputs": [],
   "source": [
    "# python的文件操作\n",
    "f=open(r'/Users/hedefu/Developer/CodeRepo/AIResearch/README.md')\n",
    "# f=open('/Users/hedefu/Developer/CodeRepo/AIResearch/README.md',mode='rw')\n",
    "# print(f.read())\n",
    "\n",
    "print(f.readline())\n",
    "print(f.readline())\n",
    "print(f.tell()) # 文件读取到了哪个位置？\n",
    "print(list(f)) # 把文件内容行放到list里\n",
    "f.seek(22,0) #从文件开始（0）偏移一定数量（20）字节开始，偏移数量乱写可能导致解码器报错\n",
    "# f.seek(0,1) 从当前位置开始\n",
    "# f.seek(0,1) 到文件末尾\n",
    "print(f.read())\n",
    "\n",
    "# 直接使用python的文件迭代功能处理\n",
    "f.seek(0, 0) # 重置到文件开头\n",
    "for line in f:\n",
    "    print(f'在迭代中读取行:{line}')\n",
    "\n",
    "# f.write('python 文件操作')\n",
    "f.close()\n",
    "\n",
    "# 写入方式打开文件，w表示覆盖式写入，a表示追加到文件末尾，x-文件已存在会引发异常\n",
    "readme = open(r'/Users/hedefu/Developer/CodeRepo/AIResearch/README.md','a')\n",
    "readme.write('这是python程序写入的内容\\n')\n",
    "readme.close()"
   ]
  },
  {
   "cell_type": "code",
   "execution_count": null,
   "id": "33567e50",
   "metadata": {},
   "outputs": [],
   "source": [
    "# 将speech_records.txt中的内容分别摘到两个文件里\n",
    "records=open(r'/Users/hedefu/Developer/CodeRepo/AIResearch/speech_records.txt')\n",
    "records_小甲鱼=open(r'/Users/hedefu/Developer/CodeRepo/AIResearch/speech_records1.txt', 'a')\n",
    "records_小客服=open(r'/Users/hedefu/Developer/CodeRepo/AIResearch/speech_records2.txt', 'a')\n",
    "for line in records:\n",
    "    print(f'开始处理{line}')\n",
    "    if(line.startswith('小甲鱼')):\n",
    "        records_小甲鱼.write(line)\n",
    "    else:\n",
    "        records_小客服.write(line)\n",
    "# 文件如果不关闭，会出现不存在就首次创建时写入内容丢失，应使用with as\n",
    "records.close()\n",
    "records_小甲鱼.close()\n",
    "records_小客服.close()"
   ]
  },
  {
   "cell_type": "code",
   "execution_count": null,
   "id": "79411d2b",
   "metadata": {},
   "outputs": [],
   "source": [
    "# 企业级优雅处理文件\n",
    "try:\n",
    "    with open(r'/Users/hedefu/Developer/CodeRepo/AIResearch/speech_records4.txt','a') as records2:\n",
    "        records2.write('似乎第一次写不进去\\n')\n",
    "        records2.writelines('使用writelines api写入一行\\n')\n",
    "except Exception as e:\n",
    "    print(f'error in processing {e}')"
   ]
  },
  {
   "cell_type": "code",
   "execution_count": null,
   "id": "5c053ca9",
   "metadata": {},
   "outputs": [],
   "source": [
    "# import os模块\n",
    "import os\n",
    "print(os.getcwd())\n",
    "# ~ home目录的上级目录下有啥\n",
    "print(os.listdir(path='..'))\n",
    "# 删除文件remove 删除目录-rmdir 删除多级目录-removedirs\n",
    "print(os.remove('Developer/CodeRepo/AIResearch/speech_records4.txt'))\n",
    "# mkdir创建文件夹 makedirs创建多层文件夹\n",
    "# os.mkdir('test')\n",
    "os.makedirs('Developer/CodeRepo/AIResearch/test')\n",
    "# 重命名文件夹\n",
    "os.rename('Developer/CodeRepo/AIResearch/test', 'Developer/CodeRepo/AIResearch/test2')"
   ]
  },
  {
   "cell_type": "code",
   "execution_count": null,
   "id": "098904a4",
   "metadata": {},
   "outputs": [],
   "source": [
    "import os\n",
    "# walk返回一个三元组，分别是父目录、所有文件夹、所有文件\n",
    "for index,contents in enumerate(os.walk('.')):\n",
    "    if(index < 10):\n",
    "        print(contents)\n",
    "    else:\n",
    "        break\n",
    "print(os.curdir)\n",
    "print(os.pardir)\n",
    "print('路径分隔符-'+os.sep) # 路径分隔符\n",
    "print('当前系统换行符-'+os.linesep) # 当前操作系统的换行符\n",
    "print('操作系统名称-'+os.name)"
   ]
  },
  {
   "cell_type": "code",
   "execution_count": 119,
   "id": "b40fb8ed",
   "metadata": {},
   "outputs": [
    {
     "name": "stdout",
     "output_type": "stream",
     "text": [
      "[123, 3.14, '小甲鱼', ['apple', 'banana']]\n"
     ]
    }
   ],
   "source": [
    "# pickle-泡菜 类似java的对象序列化，将对象写入二进制文件\n",
    "import pickle\n",
    "pickle_file_path='/Users/hedefu/Developer/CodeRepo/AIResearch/pickle_test.pkl'\n",
    "my_list=[123,3.14,'小甲鱼',['apple','banana']]\n",
    "with open(pickle_file_path, 'rb+') as pickle_file:\n",
    "    pickle.dump(my_list, pickle_file)\n",
    "    # 使用pickle读取二进制序列化文件\n",
    "    # 不重置文件指针会发生 EOFError: Ran out of input，\n",
    "    pickle_file.seek(0,0)\n",
    "    saved_list=pickle.load(pickle_file)\n",
    "    print(saved_list)"
   ]
  },
  {
   "cell_type": "code",
   "execution_count": 127,
   "id": "973f3b3d",
   "metadata": {},
   "outputs": [
    {
     "name": "stdout",
     "output_type": "stream",
     "text": [
      "hello\n",
      "兜底exception=by zero了\n",
      "这里再抛异常兜不住的\n"
     ]
    }
   ],
   "source": [
    "# python的异常处理机制\n",
    "try:\n",
    "    print('hello')\n",
    "    raise ZeroDivisionError('by zero了')\n",
    "except (OSError, TypeError) as err:\n",
    "    print(f'出错原因:{err}')\n",
    "except Exception as err:\n",
    "    print(f'兜底exception={err}')\n",
    "finally:\n",
    "    print('这里再抛异常兜不住的')"
   ]
  },
  {
   "cell_type": "code",
   "execution_count": 131,
   "id": "8b6fe3af",
   "metadata": {},
   "outputs": [
    {
     "name": "stdout",
     "output_type": "stream",
     "text": [
      "3.0\n",
      "89是素数\n"
     ]
    }
   ],
   "source": [
    "# python中else的一些特殊用法\n",
    "print(10.0//3.0)\n",
    "def showMaxFactor(num):\n",
    "    count=num//2\n",
    "    while count > 1:\n",
    "        if(num % count == 0):\n",
    "            print('找到约数 - %d' % count)\n",
    "            break\n",
    "        count-=1\n",
    "    else:\n",
    "        print('%d是素数' % num)\n",
    "numinput=int(input('请输入一个数'))\n",
    "showMaxFactor(numinput)"
   ]
  },
  {
   "cell_type": "code",
   "execution_count": null,
   "id": "d68b1a4a",
   "metadata": {},
   "outputs": [
    {
     "name": "stdout",
     "output_type": "stream",
     "text": [
      "未发生异常\n"
     ]
    }
   ],
   "source": [
    "try:\n",
    "    # int('abc')\n",
    "    # print('保证不发生异常')\n",
    "    pass # python代码空转可以使用pass实现\n",
    "except Exception as reason:\n",
    "    print('出错了%s' % str(reason))\n",
    "else:\n",
    "    print('未发生异常')"
   ]
  },
  {
   "cell_type": "markdown",
   "id": "6bef8eb2",
   "metadata": {},
   "source": [
    "# 终于到了python的面向对象\n",
    "\n",
    "> 不推荐使用多重继承，在菱形继承场景下会带来风险。推荐使用组合、抽象类继承等"
   ]
  },
  {
   "cell_type": "code",
   "execution_count": null,
   "id": "82323f20",
   "metadata": {},
   "outputs": [
    {
     "name": "stdout",
     "output_type": "stream",
     "text": [
      "我小乌龟用4条green腿爬\n",
      "小乌龟\n"
     ]
    }
   ],
   "source": [
    "class Turtle:\n",
    "    color='green'\n",
    "    weight=10\n",
    "    legs=4\n",
    "    # 属性/方法名称前添加两个下划线表示private\n",
    "    __name='乌龟'\n",
    "    def __init__(self, color):\n",
    "        self.color=color\n",
    "    def __init__(self, name):\n",
    "        self.__name=name\n",
    "    def climb(self):\n",
    "        print(f'我{self.__name}用{self.legs}条{self.color}腿爬')\n",
    "\n",
    "# tt=Turtle('dark')\n",
    "tt=Turtle('小乌龟')\n",
    "tt.climb()\n",
    "# python的private是假的\n",
    "# 虽说两条下划线可以实现变量私有，但python只是将变量改名了，换个名字就找到了\n",
    "print(tt._Turtle__name)"
   ]
  },
  {
   "cell_type": "code",
   "execution_count": null,
   "id": "04cb4f56",
   "metadata": {},
   "outputs": [
    {
     "name": "stdout",
     "output_type": "stream",
     "text": [
      "当前位置 9 9\n",
      "当前位置 1 5\n",
      "当前位置 0 5\n",
      "鲨鱼要吃\n",
      "鲨鱼吃饱了\n",
      "-=-=-=-=-=-=-=\n",
      "当前位置 7 0\n",
      "当前位置 6 0\n"
     ]
    }
   ],
   "source": [
    "import random as r\n",
    "class Fish:\n",
    "    def __init__(self):\n",
    "        self.x=r.randint(0,10)\n",
    "        self.y=r.randint(0,10)\n",
    "    def move(self):\n",
    "        self.x-=1\n",
    "        print('当前位置', self.x, self.y)\n",
    "class Goldfish(Fish):\n",
    "    pass\n",
    "class Carp(Fish):\n",
    "    pass\n",
    "class Salmon(Fish):\n",
    "    pass\n",
    "class Shark(Fish):\n",
    "    hungry=False\n",
    "    def __init__(self):\n",
    "        # 调用父类的初始化方法，super()直接调init\n",
    "        # Fish.__init__(self) 这样也能调，但父类改名就很麻烦\n",
    "        super().__init__()\n",
    "        self.hungry=True\n",
    "    def eat(self):\n",
    "        if self.hungry:\n",
    "            print('鲨鱼要吃')\n",
    "            self.hungry=False\n",
    "        else:\n",
    "            print('鲨鱼吃饱了')\n",
    "\n",
    "fish=Fish()\n",
    "fish.move()\n",
    "goldfish=Goldfish()\n",
    "goldfish.move()\n",
    "goldfish.move()\n",
    "shark=Shark()\n",
    "shark.eat()\n",
    "shark.eat()\n",
    "\n",
    "print('-=-=-=-=-=-=-=')\n",
    "shark.move()\n",
    "shark.move()"
   ]
  },
  {
   "cell_type": "code",
   "execution_count": null,
   "id": "6dce01a7",
   "metadata": {},
   "outputs": [
    {
     "name": "stdout",
     "output_type": "stream",
     "text": [
      "Log: connecting to database...\n",
      "Log: Reading file: example.txt\n",
      "Log: write to file: example.txt\n",
      "Log: content: hello\n"
     ]
    }
   ],
   "source": [
    "# 大名鼎鼎的 Mixin 设计模式\n",
    "class LoggingMixin:\n",
    "    def log(self, message):\n",
    "        print(f'Log: {message}')\n",
    "class DatabaseConnection(LoggingMixin):\n",
    "    def connect(self):\n",
    "        self.log('connecting to database...')\n",
    "class FileHandler(LoggingMixin):\n",
    "    def read_file(self, filename):\n",
    "        self.log(f'Reading file: {filename}')\n",
    "    def write_file(self, filename, content):\n",
    "        self.log(f'write to file: {filename}')\n",
    "        self.log(f'content: {content}')\n",
    "\n",
    "# 使用这些类\n",
    "db_con=DatabaseConnection()\n",
    "db_con.connect()\n",
    "file_handl=FileHandler()\n",
    "file_handl.read_file('example.txt')\n",
    "file_handl.write_file('example.txt','hello')\n",
    "# 没看出这种设计模式的优点\n"
   ]
  },
  {
   "cell_type": "code",
   "execution_count": null,
   "id": "fee70213",
   "metadata": {},
   "outputs": [
    {
     "name": "stdout",
     "output_type": "stream",
     "text": [
      "0 0 0\n",
      "0 0 10\n",
      "100 100 10\n"
     ]
    }
   ],
   "source": [
    "# 类、类对象和实例对象\n",
    "# 类中的方法名称不能跟变量名称相同\n",
    "class C:\n",
    "    count=0\n",
    "a=C()\n",
    "b=C()\n",
    "c=C()\n",
    "print(a.count, b.count, c.count)\n",
    "c.count+=10\n",
    "print(a.count, b.count, c.count)\n",
    "C.count+=100\n",
    "print(a.count, b.count, c.count)\n",
    "# 最后c.count是10，不是110！"
   ]
  },
  {
   "cell_type": "code",
   "execution_count": null,
   "id": "932b2e5d",
   "metadata": {},
   "outputs": [
    {
     "name": "stdout",
     "output_type": "stream",
     "text": [
      "unnown\n"
     ]
    }
   ],
   "source": [
    "# python绑定机制：严格要求方法必须通过类实例调用\n",
    "# 但没有实例，下述写法方法也能被调用\n",
    "class BB:\n",
    "    def printBB():\n",
    "        print('unnown')\n",
    "BB.printBB()\n",
    "# 此时通过实例再调用方法反而报错\n",
    "bb=BB()\n",
    "bb.printBB()\n",
    "# BB.printBB() takes 0 positional arguments but 1 was given\n",
    "# pyhotn绑定机制，自动将bb作为第一个参数传入，所以出现报错"
   ]
  },
  {
   "cell_type": "code",
   "execution_count": 10,
   "id": "93b601e1",
   "metadata": {},
   "outputs": [
    {
     "name": "stdout",
     "output_type": "stream",
     "text": [
      "{}\n",
      "{'__module__': '__main__', 'setXY': <function CC.setXY at 0x7f3f913f0720>, 'printXY': <function CC.printXY at 0x7f3f913f1120>, '__dict__': <attribute '__dict__' of 'CC' objects>, '__weakref__': <attribute '__weakref__' of 'CC' objects>, '__doc__': None}\n",
      "{'x': 4, 'y': 5}\n",
      "{'__module__': '__main__', 'setXY': <function CC.setXY at 0x7f3f913f0720>, 'printXY': <function CC.printXY at 0x7f3f913f1120>, '__dict__': <attribute '__dict__' of 'CC' objects>, '__weakref__': <attribute '__weakref__' of 'CC' objects>, '__doc__': None}\n"
     ]
    }
   ],
   "source": [
    "class CC:\n",
    "    def setXY(self, x, y):\n",
    "        self.x=x\n",
    "        self.y=y\n",
    "    def printXY(self):\n",
    "        print(self.x, self.y)\n",
    "dd=CC()\n",
    "print(dd.__dict__) # 通过类实例获取其中的属性，只能得到属性字典\n",
    "print(CC.__dict__) # 类属性和特殊属性需要通过类访问\n",
    "dd.setXY(4,5)\n",
    "print(dd.__dict__) # 此时得到属性字典 x-4,y-5\n",
    "print(CC.__dict__)"
   ]
  },
  {
   "cell_type": "code",
   "execution_count": 11,
   "id": "ca091ba6",
   "metadata": {},
   "outputs": [
    {
     "name": "stdout",
     "output_type": "stream",
     "text": [
      "10\n",
      "12\n",
      "12\n"
     ]
    },
    {
     "ename": "AttributeError",
     "evalue": "'C' object has no attribute 'size'",
     "output_type": "error",
     "traceback": [
      "\u001b[31m---------------------------------------------------------------------------\u001b[39m",
      "\u001b[31mAttributeError\u001b[39m                            Traceback (most recent call last)",
      "\u001b[36mCell\u001b[39m\u001b[36m \u001b[39m\u001b[32mIn[11]\u001b[39m\u001b[32m, line 19\u001b[39m\n\u001b[32m     17\u001b[39m \u001b[38;5;28mprint\u001b[39m(c.size)\n\u001b[32m     18\u001b[39m \u001b[38;5;28;01mdel\u001b[39;00m c.x\n\u001b[32m---> \u001b[39m\u001b[32m19\u001b[39m \u001b[38;5;28mprint\u001b[39m(\u001b[43mc\u001b[49m\u001b[43m.\u001b[49m\u001b[43msize\u001b[49m)\n",
      "\u001b[31mAttributeError\u001b[39m: 'C' object has no attribute 'size'"
     ]
    }
   ],
   "source": [
    "# python奇怪的property方法\n",
    "class C:\n",
    "    def __init__(self, size=10):\n",
    "        self.size=size\n",
    "    def getSize(self):\n",
    "        return self.size\n",
    "    def setSize(self, value):\n",
    "        self.size = value\n",
    "    def delSize(self):\n",
    "        del self.size\n",
    "    x=property(getSize, setSize, delSize)\n",
    "\n",
    "c=C()\n",
    "print(c.x)\n",
    "c.x=12\n",
    "print(c.x)\n",
    "print(c.size)\n",
    "del c.x\n",
    "print(c.size)"
   ]
  },
  {
   "cell_type": "code",
   "execution_count": null,
   "id": "59a0e23e",
   "metadata": {},
   "outputs": [
    {
     "data": {
      "text/plain": [
       "'HELLO'"
      ]
     },
     "execution_count": 12,
     "metadata": {},
     "output_type": "execute_result"
    }
   ],
   "source": [
    "# python的魔法方法\n",
    "# __new__方法需要重写的时机：继承了不可变对象时\n",
    "class CapStr(str): # 继承了不可变对象str\n",
    "    def __new__(cls, string): # __new__方法传入的第一个参数是类对象，而__init__方法传入的第一个参数是类实例对象\n",
    "        string=string.upper()\n",
    "        return  str.__new__(cls, string)\n",
    "a=CapStr(\"hello\") # 字符串转大写\n",
    "a"
   ]
  },
  {
   "cell_type": "code",
   "execution_count": null,
   "id": "7c5b17a4",
   "metadata": {},
   "outputs": [
    {
     "name": "stdout",
     "output_type": "stream",
     "text": [
      "__init__方法被调用\n",
      "即将删除最后一个引用\n",
      "析构方法在垃圾收集器回收该类的时候才会调用\n"
     ]
    }
   ],
   "source": [
    "# 析构器 __del__\n",
    "class C:\n",
    "    def __init__(self):\n",
    "        print('__init__方法被调用')\n",
    "    def __del__(self):\n",
    "        print('析构方法在垃圾收集器回收该类的时候才会调用，并不是del方法触发')\n",
    "c1=C()\n",
    "c2=c1\n",
    "del c1\n",
    "print('即将删除最后一个引用')\n",
    "del c2    运行至12.2"
   ]
  }
 ],
 "metadata": {
  "kernelspec": {
   "display_name": "Python 3 (ipykernel)",
   "language": "python",
   "name": "python3"
  },
  "language_info": {
   "codemirror_mode": {
    "name": "ipython",
    "version": 3
   },
   "file_extension": ".py",
   "mimetype": "text/x-python",
   "name": "python",
   "nbconvert_exporter": "python",
   "pygments_lexer": "ipython3",
   "version": "3.12.9"
  }
 },
 "nbformat": 4,
 "nbformat_minor": 5
}
