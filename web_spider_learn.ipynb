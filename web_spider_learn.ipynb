{
 "cells": [
  {
   "cell_type": "code",
   "execution_count": null,
   "id": "c5bbfa94",
   "metadata": {},
   "outputs": [
    {
     "name": "stdout",
     "output_type": "stream",
     "text": [
      "请求成功\n",
      "给你看看内容类型 image/png\n",
      "我想，图片已经保存了\n"
     ]
    }
   ],
   "source": [
    "# 开始爬虫的学习\n",
    "# import urllib.request\n",
    "# req = urllib.request.Request('https://dummyimage.com/300x100&text=hello')\n",
    "# response = urllib.request.urlopen(req)\n",
    "\n",
    "# urllib访问不了https服务，不研究怎么改了\n",
    "# 直接使用Requests库\n",
    "\n",
    "import requests\n",
    "import os\n",
    "\n",
    "resp=requests.get('https://dummyimage.com/300x100&text=宁好')\n",
    "if resp.status_code == 200:\n",
    "    print('请求成功')\n",
    "    print(f'给你看看内容类型 {resp.headers['content-type']}')\n",
    "    file_path = os.path.expanduser('~/dummy_image.png')\n",
    "    with open(file_path, 'wb') as localFile:\n",
    "        localFile.write(resp.content)\n",
    "    print('我想，图片已经保存了')\n",
    "else:\n",
    "    print('请求失败')"
   ]
  },
  {
   "cell_type": "code",
   "execution_count": null,
   "id": "30066478",
   "metadata": {},
   "outputs": [
    {
     "name": "stdout",
     "output_type": "stream",
     "text": [
      "title = 肖申克的救赎, rating = 9.7\n",
      "title = 霸王别姬, rating = 9.6\n",
      "title = 泰坦尼克号, rating = 9.5\n",
      "title = 阿甘正传, rating = 9.5\n",
      "title = 千与千寻, rating = 9.4\n",
      "title = 美丽人生, rating = 9.5\n",
      "title = 这个杀手不太冷, rating = 9.4\n",
      "title = 星际穿越, rating = 9.4\n",
      "title = 盗梦空间, rating = 9.4\n",
      "title = 楚门的世界, rating = 9.4\n",
      "title = 辛德勒的名单, rating = 9.5\n",
      "title = 忠犬八公的故事, rating = 9.4\n",
      "title = 海上钢琴师, rating = 9.3\n",
      "title = 三傻大闹宝莱坞, rating = 9.2\n",
      "title = 疯狂动物城, rating = 9.2\n",
      "title = 放牛班的春天, rating = 9.3\n",
      "title = 机器人总动员, rating = 9.3\n",
      "title = 无间道, rating = 9.3\n",
      "title = 控方证人, rating = 9.6\n",
      "title = 大话西游之大圣娶亲, rating = 9.2\n",
      "title = 熔炉, rating = 9.3\n",
      "title = 触不可及, rating = 9.3\n",
      "title = 教父, rating = 9.3\n",
      "title = 寻梦环游记, rating = 9.1\n",
      "title = 当幸福来敲门, rating = 9.1\n"
     ]
    }
   ],
   "source": [
    "#\n",
    "import requests\n",
    "import bs4\n",
    "import os\n",
    "\n",
    "# 不设置这个headers直接爬豆瓣会返回418\n",
    "# headers={'User-Agent':'Mozilla/5.0 (Windows NT 10.0; Win64; x64) AppleWebKit/537.36 (KHTML, like Gecko) Chrome/90.0.4430.212 Safari/537.36'}\n",
    "# resp = requests.get('https://movie.douban.com/top250', headers=headers)\n",
    "# print(len(resp.content))\n",
    "\n",
    "# 用浏览器下载了网页，访问本地文件来调试程序\n",
    "# 在WSL环境下，home目录读取方式仍然可用，跟mac/linux一致~\n",
    "file_path = os.path.expanduser('~/Developer/ArtificialIntelligence/web_spider_douban/豆瓣电影 Top 250.html')\n",
    "with open(file_path, 'r', encoding='utf-8') as file:\n",
    "    html_content = file.read()\n",
    "soup = bs4.BeautifulSoup(html_content, 'html.parser')\n",
    "movie_entries = soup.find_all('div', class_='item')\n",
    "for entry in movie_entries:\n",
    "    title = entry.find('span', class_='title').text\n",
    "    rating = entry.find('span', class_='rating_num').text\n",
    "    print(f'title = {title}, rating = {rating}')\n",
    "\n"
   ]
  }
 ],
 "metadata": {
  "kernelspec": {
   "display_name": "Python 3 (ipykernel)",
   "language": "python",
   "name": "python3"
  },
  "language_info": {
   "codemirror_mode": {
    "name": "ipython",
    "version": 3
   },
   "file_extension": ".py",
   "mimetype": "text/x-python",
   "name": "python",
   "nbconvert_exporter": "python",
   "pygments_lexer": "ipython3",
   "version": "3.12.9"
  }
 },
 "nbformat": 4,
 "nbformat_minor": 5
}
