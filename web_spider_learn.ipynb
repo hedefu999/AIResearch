{
 "cells": [
  {
   "cell_type": "code",
   "execution_count": null,
   "id": "c5bbfa94",
   "metadata": {},
   "outputs": [],
   "source": [
    "# 开始爬虫的学习\n",
    "import urllib.request\n",
    "req = urllib.request.Request('https://dummyimage.com/300x100&text=hello')\n",
    "response = urllib.request.urlopen(req)"
   ]
  }
 ],
 "metadata": {
  "kernelspec": {
   "display_name": "Python 3 (ipykernel)",
   "language": "python",
   "name": "python3"
  },
  "language_info": {
   "codemirror_mode": {
    "name": "ipython",
    "version": 3
   },
   "file_extension": ".py",
   "mimetype": "text/x-python",
   "name": "python",
   "nbconvert_exporter": "python",
   "pygments_lexer": "ipython3",
   "version": "3.13.0"
  }
 },
 "nbformat": 4,
 "nbformat_minor": 5
}
