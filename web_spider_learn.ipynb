{
 "cells": [
  {
   "cell_type": "code",
   "execution_count": null,
   "id": "c5bbfa94",
   "metadata": {},
   "outputs": [
    {
     "name": "stdout",
     "output_type": "stream",
     "text": [
      "请求成功\n",
      "给你看看headersimage/png\n",
      "我想，图片已经保存了\n"
     ]
    }
   ],
   "source": [
    "# 开始爬虫的学习\n",
    "# import urllib.request\n",
    "# req = urllib.request.Request('https://dummyimage.com/300x100&text=hello')\n",
    "# response = urllib.request.urlopen(req)\n",
    "\n",
    "# urllib访问不了https服务，不研究怎么改了\n",
    "# 直接使用Requests库\n",
    "\n",
    "import requests\n",
    "import os\n",
    "\n",
    "resp=requests.get('https://dummyimage.com/300x100&text=learn')\n",
    "if resp.status_code == 200:\n",
    "    print('请求成功')\n",
    "    print(f'给你看看内容类型 {resp.headers['content-type']}')\n",
    "    file_path = os.path.expanduser('~/dummy_image.png')\n",
    "    with open(file_path, 'wb') as localFile:\n",
    "        localFile.write(resp.content)\n",
    "    print('我想，图片已经保存了')\n",
    "else:\n",
    "    print('请求失败')\n",
    "    运行至14.4.3"
   ]
  }
 ],
 "metadata": {
  "kernelspec": {
   "display_name": "Python 3 (ipykernel)",
   "language": "python",
   "name": "python3"
  },
  "language_info": {
   "codemirror_mode": {
    "name": "ipython",
    "version": 3
   },
   "file_extension": ".py",
   "mimetype": "text/x-python",
   "name": "python",
   "nbconvert_exporter": "python",
   "pygments_lexer": "ipython3",
   "version": "3.13.0"
  }
 },
 "nbformat": 4,
 "nbformat_minor": 5
}
